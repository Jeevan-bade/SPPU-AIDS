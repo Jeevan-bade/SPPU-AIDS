{
  "cells": [
    {
      "cell_type": "code",
      "source": [
        "import pandas as pd\n",
        "import numpy as np"
      ],
      "metadata": {
        "id": "HvhR50dcx8b8"
      },
      "execution_count": 1,
      "outputs": []
    },
    {
      "cell_type": "code",
      "source": [
        "# Define column names as the dataset doesn't have headers\n",
        "column_names = ['sepal_length', 'sepal_width', 'petal_length', 'petal_width', 'species']\n",
        "\n",
        "# Load the dataset from URL\n",
        "url = \"/Iris.csv\"\n",
        "iris_df = pd.read_csv(url,names=column_names)\n",
        "\n",
        "# Display first 5 rows\n",
        "print(iris_df.head())"
      ],
      "metadata": {
        "colab": {
          "base_uri": "https://localhost:8080/"
        },
        "id": "tyF6TPj1yL1O",
        "outputId": "7b30431c-b358-4282-a436-2ecde04bc5f8"
      },
      "execution_count": 7,
      "outputs": [
        {
          "output_type": "stream",
          "name": "stdout",
          "text": [
            "     sepal_length   sepal_width   petal_length   petal_width      species\n",
            "Id  SepalLengthCm  SepalWidthCm  PetalLengthCm  PetalWidthCm      Species\n",
            "1             5.1           3.5            1.4           0.2  Iris-setosa\n",
            "2             4.9           3.0            1.4           0.2  Iris-setosa\n",
            "3             4.7           3.2            1.3           0.2  Iris-setosa\n",
            "4             4.6           3.1            1.5           0.2  Iris-setosa\n"
          ]
        }
      ]
    },
    {
      "cell_type": "code",
      "source": [
        "# Check for missing values\n",
        "print(\"\\nMissing values in each column:\")\n",
        "print(iris_df.isnull().sum())\n",
        "\n",
        "# Get initial statistics\n",
        "print(\"\\nDataset statistics:\")\n",
        "print(iris_df.describe())\n",
        "\n",
        "# Check dimensions of the dataframe\n",
        "print(\"\\nDataFrame dimensions:\")\n",
        "print(iris_df.shape)"
      ],
      "metadata": {
        "colab": {
          "base_uri": "https://localhost:8080/"
        },
        "id": "p2olqN9pyaOP",
        "outputId": "627b9152-ea25-4855-eed8-7fc5ecdc9691"
      },
      "execution_count": 9,
      "outputs": [
        {
          "output_type": "stream",
          "name": "stdout",
          "text": [
            "\n",
            "Missing values in each column:\n",
            "sepal_length    0\n",
            "sepal_width     0\n",
            "petal_length    0\n",
            "petal_width     0\n",
            "species         0\n",
            "dtype: int64\n",
            "\n",
            "Dataset statistics:\n",
            "       sepal_length sepal_width petal_length petal_width      species\n",
            "count           151         151          151         151          151\n",
            "unique           36          24           44          23            4\n",
            "top             5.0         3.0          1.5         0.2  Iris-setosa\n",
            "freq             10          26           14          28           50\n",
            "\n",
            "DataFrame dimensions:\n",
            "(151, 5)\n"
          ]
        }
      ]
    },
    {
      "cell_type": "code",
      "source": [
        "# Check data types\n",
        "print(\"\\nOriginal data types:\")\n",
        "print(iris_df.dtypes)\n",
        "\n",
        "# All columns except species are already float, which is correct\n",
        "# Species is object (string), which is correct for categorical data\n",
        "\n",
        "# No type conversions needed in this case\n",
        "\n",
        "# For demonstration, if we needed to convert species to category type:\n",
        "iris_df['species'] = iris_df['species'].astype('category')\n",
        "\n",
        "print(\"\\nData types after conversion:\")\n",
        "print(iris_df.dtypes)"
      ],
      "metadata": {
        "colab": {
          "base_uri": "https://localhost:8080/"
        },
        "id": "OBzCeRoQz8Hk",
        "outputId": "a75307c2-3743-40e5-96c7-ab6ab71f660d"
      },
      "execution_count": 10,
      "outputs": [
        {
          "output_type": "stream",
          "name": "stdout",
          "text": [
            "\n",
            "Original data types:\n",
            "sepal_length    object\n",
            "sepal_width     object\n",
            "petal_length    object\n",
            "petal_width     object\n",
            "species         object\n",
            "dtype: object\n",
            "\n",
            "Data types after conversion:\n",
            "sepal_length      object\n",
            "sepal_width       object\n",
            "petal_length      object\n",
            "petal_width       object\n",
            "species         category\n",
            "dtype: object\n"
          ]
        }
      ]
    },
    {
      "cell_type": "code",
      "source": [
        "# Convert species (categorical) to quantitative variables using one-hot encoding\n",
        "iris_quantitative = pd.get_dummies(iris_df, columns=['species'])\n",
        "\n",
        "# Display the transformed dataframe\n",
        "print(\"\\nDataFrame with categorical variable converted to quantitative:\")\n",
        "print(iris_df.head())\n",
        "\n",
        "# Display the one-hot encoded version\n",
        "print(\"\\nOne-hot encoded version:\")\n",
        "print(iris_quantitative.head())"
      ],
      "metadata": {
        "colab": {
          "base_uri": "https://localhost:8080/"
        },
        "id": "AOy_0Fza0WDR",
        "outputId": "94fabe6a-3990-4a98-faa8-85427cea4eea"
      },
      "execution_count": 11,
      "outputs": [
        {
          "output_type": "stream",
          "name": "stdout",
          "text": [
            "\n",
            "DataFrame with categorical variable converted to quantitative:\n",
            "     sepal_length   sepal_width   petal_length   petal_width      species\n",
            "Id  SepalLengthCm  SepalWidthCm  PetalLengthCm  PetalWidthCm      Species\n",
            "1             5.1           3.5            1.4           0.2  Iris-setosa\n",
            "2             4.9           3.0            1.4           0.2  Iris-setosa\n",
            "3             4.7           3.2            1.3           0.2  Iris-setosa\n",
            "4             4.6           3.1            1.5           0.2  Iris-setosa\n",
            "\n",
            "One-hot encoded version:\n",
            "     sepal_length   sepal_width   petal_length   petal_width  \\\n",
            "Id  SepalLengthCm  SepalWidthCm  PetalLengthCm  PetalWidthCm   \n",
            "1             5.1           3.5            1.4           0.2   \n",
            "2             4.9           3.0            1.4           0.2   \n",
            "3             4.7           3.2            1.3           0.2   \n",
            "4             4.6           3.1            1.5           0.2   \n",
            "\n",
            "    species_Iris-setosa  species_Iris-versicolor  species_Iris-virginica  \\\n",
            "Id                False                    False                   False   \n",
            "1                  True                    False                   False   \n",
            "2                  True                    False                   False   \n",
            "3                  True                    False                   False   \n",
            "4                  True                    False                   False   \n",
            "\n",
            "    species_Species  \n",
            "Id             True  \n",
            "1             False  \n",
            "2             False  \n",
            "3             False  \n",
            "4             False  \n"
          ]
        }
      ]
    }
  ],
  "metadata": {
    "colab": {
      "name": "Welcome To Colab",
      "provenance": []
    },
    "kernelspec": {
      "display_name": "Python 3",
      "name": "python3"
    }
  },
  "nbformat": 4,
  "nbformat_minor": 0
}