{
  "nbformat": 4,
  "nbformat_minor": 0,
  "metadata": {
    "colab": {
      "provenance": []
    },
    "kernelspec": {
      "name": "python3",
      "display_name": "Python 3"
    },
    "language_info": {
      "name": "python"
    }
  },
  "cells": [
    {
      "cell_type": "code",
      "execution_count": 1,
      "metadata": {
        "id": "CZQpAe24_DtQ",
        "colab": {
          "base_uri": "https://localhost:8080/"
        },
        "outputId": "ca17498b-a0aa-49ec-d9fc-479ba3cb056b"
      },
      "outputs": [
        {
          "output_type": "stream",
          "name": "stdout",
          "text": [
            "Dataset Description:\n",
            "Number of rows: 7845\n",
            "Number of columns: 24\n",
            "\n",
            "Column names and data types:\n",
            "Updated On                              object\n",
            "State                                   object\n",
            "Total Doses Administered               float64\n",
            "Sessions                               float64\n",
            " Sites                                 float64\n",
            "First Dose Administered                float64\n",
            "Second Dose Administered               float64\n",
            "Male (Doses Administered)              float64\n",
            "Female (Doses Administered)            float64\n",
            "Transgender (Doses Administered)       float64\n",
            " Covaxin (Doses Administered)          float64\n",
            "CoviShield (Doses Administered)        float64\n",
            "Sputnik V (Doses Administered)         float64\n",
            "AEFI                                   float64\n",
            "18-44 Years (Doses Administered)       float64\n",
            "45-60 Years (Doses Administered)       float64\n",
            "60+ Years (Doses Administered)         float64\n",
            "18-44 Years(Individuals Vaccinated)    float64\n",
            "45-60 Years(Individuals Vaccinated)    float64\n",
            "60+ Years(Individuals Vaccinated)      float64\n",
            "Male(Individuals Vaccinated)           float64\n",
            "Female(Individuals Vaccinated)         float64\n",
            "Transgender(Individuals Vaccinated)    float64\n",
            "Total Individuals Vaccinated           float64\n",
            "dtype: object\n",
            "\n",
            "Missing values per column:\n",
            "Updated On                                0\n",
            "State                                     0\n",
            "Total Doses Administered                224\n",
            "Sessions                                224\n",
            " Sites                                  224\n",
            "First Dose Administered                 224\n",
            "Second Dose Administered                224\n",
            "Male (Doses Administered)               384\n",
            "Female (Doses Administered)             384\n",
            "Transgender (Doses Administered)        384\n",
            " Covaxin (Doses Administered)           224\n",
            "CoviShield (Doses Administered)         224\n",
            "Sputnik V (Doses Administered)         4850\n",
            "AEFI                                   2407\n",
            "18-44 Years (Doses Administered)       6143\n",
            "45-60 Years (Doses Administered)       6143\n",
            "60+ Years (Doses Administered)         6143\n",
            "18-44 Years(Individuals Vaccinated)    4112\n",
            "45-60 Years(Individuals Vaccinated)    4111\n",
            "60+ Years(Individuals Vaccinated)      4111\n",
            "Male(Individuals Vaccinated)           7685\n",
            "Female(Individuals Vaccinated)         7685\n",
            "Transgender(Individuals Vaccinated)    7685\n",
            "Total Individuals Vaccinated           1926\n",
            "dtype: int64\n",
            "\n",
            "Basic statistics:\n",
            "       Total Doses Administered      Sessions        Sites   \\\n",
            "count              7.621000e+03  7.621000e+03   7621.000000   \n",
            "mean               9.188171e+06  4.792358e+05   2282.872064   \n",
            "std                3.746180e+07  1.911511e+06   7275.973730   \n",
            "min                7.000000e+00  0.000000e+00      0.000000   \n",
            "25%                1.356570e+05  6.004000e+03     69.000000   \n",
            "50%                8.182020e+05  4.547000e+04    597.000000   \n",
            "75%                6.625243e+06  3.428690e+05   1708.000000   \n",
            "max                5.132284e+08  3.501031e+07  73933.000000   \n",
            "\n",
            "       First Dose Administered  Second Dose Administered  \\\n",
            "count             7.621000e+03              7.621000e+03   \n",
            "mean              7.414415e+06              1.773755e+06   \n",
            "std               2.995209e+07              7.570382e+06   \n",
            "min               7.000000e+00              0.000000e+00   \n",
            "25%               1.166320e+05              1.283100e+04   \n",
            "50%               6.614590e+05              1.388180e+05   \n",
            "75%               5.387805e+06              1.166434e+06   \n",
            "max               4.001504e+08              1.130780e+08   \n",
            "\n",
            "       Male (Doses Administered)  Female (Doses Administered)  \\\n",
            "count               7.461000e+03                 7.461000e+03   \n",
            "mean                3.620156e+06                 3.168416e+06   \n",
            "std                 1.737938e+07                 1.515310e+07   \n",
            "min                 0.000000e+00                 2.000000e+00   \n",
            "25%                 5.655500e+04                 5.210700e+04   \n",
            "50%                 3.897850e+05                 3.342380e+05   \n",
            "75%                 2.735777e+06                 2.561513e+06   \n",
            "max                 2.701636e+08                 2.395186e+08   \n",
            "\n",
            "       Transgender (Doses Administered)   Covaxin (Doses Administered)  \\\n",
            "count                       7461.000000                   7.621000e+03   \n",
            "mean                        1162.978019                   1.044669e+06   \n",
            "std                         5931.353995                   4.452259e+06   \n",
            "min                            0.000000                   0.000000e+00   \n",
            "25%                            8.000000                   0.000000e+00   \n",
            "50%                          113.000000                   1.185100e+04   \n",
            "75%                          800.000000                   7.579300e+05   \n",
            "max                        98275.000000                   6.236742e+07   \n",
            "\n",
            "       CoviShield (Doses Administered)  ...  18-44 Years (Doses Administered)  \\\n",
            "count                     7.621000e+03  ...                      1.702000e+03   \n",
            "mean                      8.126553e+06  ...                      8.773958e+06   \n",
            "std                       3.298414e+07  ...                      2.660829e+07   \n",
            "min                       7.000000e+00  ...                      2.662400e+04   \n",
            "25%                       1.331340e+05  ...                      4.344842e+05   \n",
            "50%                       7.567360e+05  ...                      3.095970e+06   \n",
            "75%                       6.007817e+06  ...                      7.366241e+06   \n",
            "max                       4.468251e+08  ...                      2.243304e+08   \n",
            "\n",
            "       45-60 Years (Doses Administered)  60+ Years (Doses Administered)  \\\n",
            "count                      1.702000e+03                    1.702000e+03   \n",
            "mean                       7.442161e+06                    5.641605e+06   \n",
            "std                        2.225999e+07                    1.681650e+07   \n",
            "min                        1.681500e+04                    9.994000e+03   \n",
            "25%                        2.326275e+05                    1.285605e+05   \n",
            "50%                        2.695938e+06                    1.805696e+06   \n",
            "75%                        6.969726e+06                    5.294763e+06   \n",
            "max                        1.667575e+08                    1.186927e+08   \n",
            "\n",
            "       18-44 Years(Individuals Vaccinated)  \\\n",
            "count                         3.733000e+03   \n",
            "mean                          1.395895e+06   \n",
            "std                           5.501454e+06   \n",
            "min                           1.059000e+03   \n",
            "25%                           5.655400e+04   \n",
            "50%                           2.947270e+05   \n",
            "75%                           9.105160e+05   \n",
            "max                           9.224315e+07   \n",
            "\n",
            "       45-60 Years(Individuals Vaccinated)  60+ Years(Individuals Vaccinated)  \\\n",
            "count                         3.734000e+03                       3.734000e+03   \n",
            "mean                          2.916515e+06                       2.627444e+06   \n",
            "std                           9.567607e+06                       8.192225e+06   \n",
            "min                           1.136000e+03                       5.580000e+02   \n",
            "25%                           9.248225e+04                       5.615975e+04   \n",
            "50%                           8.330395e+05                       7.887425e+05   \n",
            "75%                           2.499280e+06                       2.337874e+06   \n",
            "max                           9.096888e+07                       6.731098e+07   \n",
            "\n",
            "       Male(Individuals Vaccinated)  Female(Individuals Vaccinated)  \\\n",
            "count                  1.600000e+02                    1.600000e+02   \n",
            "mean                   4.461687e+07                    3.951018e+07   \n",
            "std                    3.950749e+07                    3.417684e+07   \n",
            "min                    2.375700e+04                    2.451700e+04   \n",
            "25%                    5.739350e+06                    5.023407e+06   \n",
            "50%                    3.716590e+07                    3.365402e+07   \n",
            "75%                    7.441663e+07                    6.685368e+07   \n",
            "max                    1.349420e+08                    1.156684e+08   \n",
            "\n",
            "       Transgender(Individuals Vaccinated)  Total Individuals Vaccinated  \n",
            "count                           160.000000                  5.919000e+03  \n",
            "mean                          12370.543750                  4.547842e+06  \n",
            "std                           12485.026753                  1.834182e+07  \n",
            "min                               2.000000                  7.000000e+00  \n",
            "25%                            1278.750000                  7.427550e+04  \n",
            "50%                            8007.500000                  4.022880e+05  \n",
            "75%                           19851.000000                  3.501562e+06  \n",
            "max                           46462.000000                  2.506569e+08  \n",
            "\n",
            "[8 rows x 22 columns]\n"
          ]
        }
      ],
      "source": [
        "import pandas as pd\n",
        "\n",
        "# Load the dataset\n",
        "df = pd.read_csv('/content/covid_vaccine_statewise.csv')\n",
        "\n",
        "# Display basic description\n",
        "print(\"Dataset Description:\")\n",
        "print(f\"Number of rows: {df.shape[0]}\")\n",
        "print(f\"Number of columns: {df.shape[1]}\")\n",
        "print(\"\\nColumn names and data types:\")\n",
        "print(df.dtypes)\n",
        "print(\"\\nMissing values per column:\")\n",
        "print(df.isnull().sum())\n",
        "print(\"\\nBasic statistics:\")\n",
        "print(df.describe())"
      ]
    },
    {
      "cell_type": "code",
      "source": [
        "# Get latest data for each state (assuming the dataset has daily cumulative numbers)\n",
        "latest_data = df.sort_values('Updated On').groupby('State').last()\n",
        "\n",
        "# Filter for first dose\n",
        "first_dose = latest_data[['First Dose Administered']].sort_values('First Dose Administered', ascending=False)\n",
        "\n",
        "print(\"\\nState-wise first dose vaccinations:\")\n",
        "print(first_dose)"
      ],
      "metadata": {
        "id": "fNC-5Vlh_RHq",
        "colab": {
          "base_uri": "https://localhost:8080/"
        },
        "outputId": "2ce0f9f3-4821-4f25-c12a-b64c93996f29"
      },
      "execution_count": 2,
      "outputs": [
        {
          "output_type": "stream",
          "name": "stdout",
          "text": [
            "\n",
            "State-wise first dose vaccinations:\n",
            "                                          First Dose Administered\n",
            "State                                                            \n",
            "India                                                 361264651.0\n",
            "Uttar Pradesh                                          40485878.0\n",
            "Maharashtra                                            33167633.0\n",
            "Madhya Pradesh                                         26830212.0\n",
            "Gujarat                                                25341390.0\n",
            "Rajasthan                                              24972030.0\n",
            "Karnataka                                              23841981.0\n",
            "West Bengal                                            20837318.0\n",
            "Bihar                                                  20551758.0\n",
            "Tamil Nadu                                             18835602.0\n",
            "Andhra Pradesh                                         16096801.0\n",
            "Kerala                                                 14111255.0\n",
            "Odisha                                                 12583606.0\n",
            "Telangana                                              11249396.0\n",
            "Haryana                                                 9318405.0\n",
            "Assam                                                   8708999.0\n",
            "Chhattisgarh                                            8632804.0\n",
            "Jharkhand                                               7776741.0\n",
            "Delhi                                                   7382742.0\n",
            "Punjab                                                  7192206.0\n",
            "Jammu and Kashmir                                       4906292.0\n",
            "Uttarakhand                                             4470779.0\n",
            "Himachal Pradesh                                        3949268.0\n",
            "Tripura                                                 2360019.0\n",
            "Manipur                                                 1108293.0\n",
            "Goa                                                     1054705.0\n",
            "Meghalaya                                                888284.0\n",
            "Arunachal Pradesh                                        671065.0\n",
            "Mizoram                                                  639048.0\n",
            "Chandigarh                                               621982.0\n",
            "Nagaland                                                 615940.0\n",
            "Puducherry                                               571733.0\n",
            "Dadra and Nagar Haveli and Daman and Diu                 555117.0\n",
            "Sikkim                                                   490631.0\n",
            "Andaman and Nicobar Islands                              207419.0\n",
            "Ladakh                                                   187081.0\n",
            "Lakshadweep                                               50238.0\n"
          ]
        }
      ]
    },
    {
      "cell_type": "code",
      "source": [
        "# Filter for second dose\n",
        "second_dose = latest_data[['Second Dose Administered']].sort_values('Second Dose Administered', ascending=False)\n",
        "\n",
        "print(\"\\nState-wise second dose vaccinations:\")\n",
        "print(second_dose)"
      ],
      "metadata": {
        "id": "vKSIa37Z_Twv",
        "colab": {
          "base_uri": "https://localhost:8080/"
        },
        "outputId": "8c0a6239-0bfc-4aa8-ada5-aad8228e93d3"
      },
      "execution_count": 3,
      "outputs": [
        {
          "output_type": "stream",
          "name": "stdout",
          "text": [
            "\n",
            "State-wise second dose vaccinations:\n",
            "                                          Second Dose Administered\n",
            "State                                                             \n",
            "India                                                  101848788.0\n",
            "Maharashtra                                             11191970.0\n",
            "West Bengal                                              8681380.0\n",
            "Gujarat                                                  7937490.0\n",
            "Uttar Pradesh                                            7790151.0\n",
            "Rajasthan                                                7496590.0\n",
            "Karnataka                                                6529233.0\n",
            "Kerala                                                   6053845.0\n",
            "Andhra Pradesh                                           5572592.0\n",
            "Madhya Pradesh                                           5168997.0\n",
            "Tamil Nadu                                               4200590.0\n",
            "Odisha                                                   3915473.0\n",
            "Bihar                                                    3890706.0\n",
            "Telangana                                                3483612.0\n",
            "Delhi                                                    2664898.0\n",
            "Haryana                                                  2505623.0\n",
            "Chhattisgarh                                             2320651.0\n",
            "Punjab                                                   1963275.0\n",
            "Assam                                                    1929248.0\n",
            "Jharkhand                                                1813023.0\n",
            "Uttarakhand                                              1436211.0\n",
            "Jammu and Kashmir                                        1309048.0\n",
            "Himachal Pradesh                                         1273423.0\n",
            "Tripura                                                   785182.0\n",
            "Goa                                                       272396.0\n",
            "Manipur                                                   205418.0\n",
            "Meghalaya                                                 198416.0\n",
            "Mizoram                                                   196950.0\n",
            "Chandigarh                                                195162.0\n",
            "Arunachal Pradesh                                         174535.0\n",
            "Nagaland                                                  149166.0\n",
            "Sikkim                                                    148105.0\n",
            "Puducherry                                                145492.0\n",
            "Andaman and Nicobar Islands                                91550.0\n",
            "Dadra and Nagar Haveli and Daman and Diu                   74770.0\n",
            "Ladakh                                                     67646.0\n",
            "Lakshadweep                                                15971.0\n"
          ]
        }
      ]
    },
    {
      "cell_type": "code",
      "source": [
        "# Calculate total males vaccinated (sum across all states)\n",
        "total_males = latest_data['Male(Individuals Vaccinated)'].sum()\n",
        "\n",
        "print(f\"\\nTotal males vaccinated: {total_males:,.0f}\")"
      ],
      "metadata": {
        "id": "KBItzcZM_X-o",
        "colab": {
          "base_uri": "https://localhost:8080/"
        },
        "outputId": "e279a7de-0198-4c4d-8a96-5211412eb2be"
      },
      "execution_count": 4,
      "outputs": [
        {
          "output_type": "stream",
          "name": "stdout",
          "text": [
            "\n",
            "Total males vaccinated: 90,095,606\n"
          ]
        }
      ]
    },
    {
      "cell_type": "code",
      "source": [
        "# Calculate total females vaccinated (sum across all states)\n",
        "total_females = latest_data['Female(Individuals Vaccinated)'].sum()\n",
        "\n",
        "print(f\"\\nTotal females vaccinated: {total_females:,.0f}\")"
      ],
      "metadata": {
        "id": "nRxPAiId_d9d",
        "colab": {
          "base_uri": "https://localhost:8080/"
        },
        "outputId": "0dedeeb8-bc90-44b2-84f8-3655f4b8406c"
      },
      "execution_count": 5,
      "outputs": [
        {
          "output_type": "stream",
          "name": "stdout",
          "text": [
            "\n",
            "Total females vaccinated: 78,271,582\n"
          ]
        }
      ]
    }
  ]
}