{
  "nbformat": 4,
  "nbformat_minor": 0,
  "metadata": {
    "colab": {
      "provenance": []
    },
    "kernelspec": {
      "name": "python3",
      "display_name": "Python 3"
    },
    "language_info": {
      "name": "python"
    }
  },
  "cells": [
    {
      "cell_type": "code",
      "execution_count": 1,
      "metadata": {
        "id": "FKFPxPk03hso"
      },
      "outputs": [],
      "source": [
        "import pandas as pd\n",
        "import numpy as np\n",
        "\n",
        "data = {\n",
        "    'Student_ID': range(1, 21),\n",
        "    'Name': [f'Student_{i}' for i in range(1, 21)],\n",
        "    'Age': [18, 19, np.nan, 20, 21, 17, 19, np.nan, 20, 18, 22, 19, 20, 17, 18, 19, 20, 21, 17, 18],\n",
        "    'Gender': ['M', 'Male', 'F', 'Female', 'M', 'F', 'm', 'f', 'Male', 'Female', 'M', 'F', 'M', 'F', 'Male', 'Female', 'm', 'f', 'M', 'F'],\n",
        "    'Math_Score': [85, 92, 88, np.nan, 120, 75, 82, 90, 95, 100, 110, 78, 88, 92, 85, 76, 105, 89, 94, 99],\n",
        "    'Science_Score': [78, 85, 90, 88, 92, 80, 84, 91, 76, 89, 95, 77, 83, 85, 90, 87, 96, 82, 88, 93],\n",
        "    'English_Score': [80, 88, 85, 90, 78, 82, 91, 84, 89, 92, 75, 86, 79, 93, 87, 84, 80, 85, 90, 95],\n",
        "    'Attendance_Percentage': [90, 85, 95, 88, 92, 75, 80, 98, 89, 93, 100, 82, 87, 91, 84, 79, 96, 83, 88, 94],\n",
        "    'Study_Hours_Per_Week': [15, 20, 25, 18, 50, 10, 22, 30, 19, 24, 40, 12, 28, 16, 21, 14, 35, 17, 23, 29]\n",
        "}\n",
        "\n",
        "df = pd.DataFrame(data)"
      ]
    },
    {
      "cell_type": "code",
      "source": [
        "print(df.isnull().sum()) #Check Missing Values"
      ],
      "metadata": {
        "colab": {
          "base_uri": "https://localhost:8080/"
        },
        "id": "6ZxMU9uZ3oG1",
        "outputId": "a866c59f-6c0f-4f78-f48e-a2e096ccd5d0"
      },
      "execution_count": 2,
      "outputs": [
        {
          "output_type": "stream",
          "name": "stdout",
          "text": [
            "Student_ID               0\n",
            "Name                     0\n",
            "Age                      2\n",
            "Gender                   0\n",
            "Math_Score               1\n",
            "Science_Score            0\n",
            "English_Score            0\n",
            "Attendance_Percentage    0\n",
            "Study_Hours_Per_Week     0\n",
            "dtype: int64\n"
          ]
        }
      ]
    },
    {
      "cell_type": "code",
      "source": [
        "df['Age'].fillna(df['Age'].median(), inplace=True)#Handle Missing Values\n",
        "df['Math_Score'].fillna(df['Math_Score'].median(), inplace=True)"
      ],
      "metadata": {
        "colab": {
          "base_uri": "https://localhost:8080/"
        },
        "id": "zzLGTUjY3uED",
        "outputId": "0473331d-2aa3-4a74-8c7c-c020deb31c3c"
      },
      "execution_count": 3,
      "outputs": [
        {
          "output_type": "stream",
          "name": "stderr",
          "text": [
            "<ipython-input-3-2304bd915f7f>:1: FutureWarning: A value is trying to be set on a copy of a DataFrame or Series through chained assignment using an inplace method.\n",
            "The behavior will change in pandas 3.0. This inplace method will never work because the intermediate object on which we are setting values always behaves as a copy.\n",
            "\n",
            "For example, when doing 'df[col].method(value, inplace=True)', try using 'df.method({col: value}, inplace=True)' or df[col] = df[col].method(value) instead, to perform the operation inplace on the original object.\n",
            "\n",
            "\n",
            "  df['Age'].fillna(df['Age'].median(), inplace=True)\n",
            "<ipython-input-3-2304bd915f7f>:2: FutureWarning: A value is trying to be set on a copy of a DataFrame or Series through chained assignment using an inplace method.\n",
            "The behavior will change in pandas 3.0. This inplace method will never work because the intermediate object on which we are setting values always behaves as a copy.\n",
            "\n",
            "For example, when doing 'df[col].method(value, inplace=True)', try using 'df.method({col: value}, inplace=True)' or df[col] = df[col].method(value) instead, to perform the operation inplace on the original object.\n",
            "\n",
            "\n",
            "  df['Math_Score'].fillna(df['Math_Score'].median(), inplace=True)\n"
          ]
        }
      ]
    },
    {
      "cell_type": "code",
      "source": [
        "#Check Inconsistencies\n",
        "gender_mapping = {'Male': 'M', 'Female': 'F', 'm': 'M', 'f': 'F'}\n",
        "df['Gender'] = df['Gender'].replace(gender_mapping).str.upper()"
      ],
      "metadata": {
        "id": "lQZSrmbp31pI"
      },
      "execution_count": 9,
      "outputs": []
    },
    {
      "cell_type": "code",
      "source": [
        "#Identify Outliers in Numeric Variables\n",
        "# Cap Math_Score\n",
        "df['Math_Score'] = df['Math_Score'].clip(upper=100)\n",
        "\n",
        "# Cap Study_Hours using IQR\n",
        "Q1 = df['Study_Hours_Per_Week'].quantile(0.25)\n",
        "Q3 = df['Study_Hours_Per_Week'].quantile(0.75)\n",
        "IQR = Q3 - Q1\n",
        "upper_bound = Q3 + 1.5 * IQR\n",
        "df['Study_Hours_Per_Week'] = df['Study_Hours_Per_Week'].clip(upper=upper_bound)"
      ],
      "metadata": {
        "id": "_Ev5WCto3_sY"
      },
      "execution_count": 6,
      "outputs": []
    },
    {
      "cell_type": "code",
      "source": [
        "#Check Skewness and Transform\n",
        "# Check skewness before\n",
        "print(df['Study_Hours_Per_Week'].skew())  # Likely positive (right-skewed)\n",
        "\n",
        "# Apply log transformation\n",
        "df['Study_Hours_Log'] = np.log1p(df['Study_Hours_Per_Week'])\n",
        "\n",
        "# Check skewness after\n",
        "print(df['Study_Hours_Log'].skew())  # Reduced skewness"
      ],
      "metadata": {
        "colab": {
          "base_uri": "https://localhost:8080/"
        },
        "id": "IG35caBF4DrI",
        "outputId": "32851096-b7e2-4fd8-f18d-747fe01fb7a8"
      },
      "execution_count": 7,
      "outputs": [
        {
          "output_type": "stream",
          "name": "stdout",
          "text": [
            "0.9075788395532246\n",
            "0.06843187165824348\n"
          ]
        }
      ]
    },
    {
      "cell_type": "code",
      "source": [
        "print(df.head())"
      ],
      "metadata": {
        "colab": {
          "base_uri": "https://localhost:8080/"
        },
        "id": "S4Y-hACC4Gfy",
        "outputId": "602beb0f-2be9-44c5-e065-a6e2a06e32a3"
      },
      "execution_count": 8,
      "outputs": [
        {
          "output_type": "stream",
          "name": "stdout",
          "text": [
            "   Student_ID       Name   Age Gender  Math_Score  Science_Score  \\\n",
            "0           1  Student_1  18.0      M        85.0             78   \n",
            "1           2  Student_2  19.0      M        92.0             85   \n",
            "2           3  Student_3  19.0      F        88.0             90   \n",
            "3           4  Student_4  20.0      F        90.0             88   \n",
            "4           5  Student_5  21.0      M       100.0             92   \n",
            "\n",
            "   English_Score  Attendance_Percentage  Study_Hours_Per_Week  Study_Hours_Log  \n",
            "0             80                     90                  15.0         2.772589  \n",
            "1             88                     85                  20.0         3.044522  \n",
            "2             85                     95                  25.0         3.258097  \n",
            "3             90                     88                  18.0         2.944439  \n",
            "4             78                     92                  45.5         3.839452  \n"
          ]
        }
      ]
    }
  ]
}