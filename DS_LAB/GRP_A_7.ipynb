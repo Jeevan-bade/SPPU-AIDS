{
  "cells": [
    {
      "cell_type": "code",
      "source": [
        "import nltk\n",
        "from nltk.tokenize import word_tokenize, sent_tokenize\n",
        "from nltk.corpus import stopwords\n",
        "from nltk.stem import PorterStemmer, WordNetLemmatizer\n",
        "from nltk import pos_tag\n",
        "from sklearn.feature_extraction.text import TfidfVectorizer\n",
        "\n",
        "# Download required NLTK data\n",
        "nltk.download('punkt')\n",
        "nltk.download('stopwords')\n",
        "nltk.download('wordnet')\n",
        "nltk.download('averaged_perceptron_tagger')\n",
        "nltk.download('punkt_tab') # Download the punkt_tab data package\n",
        "nltk.download('averaged_perceptron_tagger_eng') # Download the averaged_perceptron_tagger_eng data package\n",
        "\n",
        "# Sample document\n",
        "text = \"Tokenization is the first step in text analytics. The process of breaking down a text paragraph into smaller chunks such as words or sentences is called Tokenization.\"\n",
        "\n",
        "# 1. Tokenization\n",
        "sentences = sent_tokenize(text)\n",
        "words = word_tokenize(text)\n",
        "print(\"Sentence Tokenization:\", sentences)\n",
        "print(\"Word Tokenization:\", words)\n",
        "\n",
        "# 2. POS Tagging\n",
        "pos_tags = pos_tag(words)\n",
        "print(\"POS Tags:\", pos_tags)\n",
        "\n",
        "# 3. Stop words removal\n",
        "stop_words = set(stopwords.words('english'))\n",
        "filtered_words = [word for word in words if word.lower() not in stop_words]\n",
        "print(\"After removing stop words:\", filtered_words)\n",
        "\n",
        "# 4. Stemming\n",
        "stemmer = PorterStemmer()\n",
        "stemmed_words = [stemmer.stem(word) for word in filtered_words]\n",
        "print(\"Stemmed words:\", stemmed_words)\n",
        "\n",
        "# 5. Lemmatization\n",
        "lemmatizer = WordNetLemmatizer()\n",
        "lemmatized_words = [lemmatizer.lemmatize(word) for word in filtered_words]\n",
        "print(\"Lemmatized words:\", lemmatized_words)\n",
        "\n",
        "# 6. TF-IDF Representation\n",
        "documents = [\n",
        "    \"Jupiter is the largest Planet\",\n",
        "    \"Mars is the fourth planet from the Sun\"\n",
        "]\n",
        "vectorizer = TfidfVectorizer()\n",
        "tfidf_matrix = vectorizer.fit_transform(documents)\n",
        "print(\"TF-IDF Matrix:\")\n",
        "print(tfidf_matrix.toarray())\n",
        "print(\"Feature names:\", vectorizer.get_feature_names_out())"
      ],
      "metadata": {
        "id": "2eERxLvUaDz6",
        "outputId": "84f1daa9-3669-485b-dd3d-f8a8a80ca253",
        "colab": {
          "base_uri": "https://localhost:8080/"
        }
      },
      "execution_count": 3,
      "outputs": [
        {
          "output_type": "stream",
          "name": "stderr",
          "text": [
            "[nltk_data] Downloading package punkt to /root/nltk_data...\n",
            "[nltk_data]   Package punkt is already up-to-date!\n",
            "[nltk_data] Downloading package stopwords to /root/nltk_data...\n",
            "[nltk_data]   Package stopwords is already up-to-date!\n",
            "[nltk_data] Downloading package wordnet to /root/nltk_data...\n",
            "[nltk_data]   Package wordnet is already up-to-date!\n",
            "[nltk_data] Downloading package averaged_perceptron_tagger to\n",
            "[nltk_data]     /root/nltk_data...\n",
            "[nltk_data]   Package averaged_perceptron_tagger is already up-to-\n",
            "[nltk_data]       date!\n",
            "[nltk_data] Downloading package punkt_tab to /root/nltk_data...\n",
            "[nltk_data]   Package punkt_tab is already up-to-date!\n",
            "[nltk_data] Downloading package averaged_perceptron_tagger_eng to\n",
            "[nltk_data]     /root/nltk_data...\n",
            "[nltk_data]   Unzipping taggers/averaged_perceptron_tagger_eng.zip.\n"
          ]
        },
        {
          "output_type": "stream",
          "name": "stdout",
          "text": [
            "Sentence Tokenization: ['Tokenization is the first step in text analytics.', 'The process of breaking down a text paragraph into smaller chunks such as words or sentences is called Tokenization.']\n",
            "Word Tokenization: ['Tokenization', 'is', 'the', 'first', 'step', 'in', 'text', 'analytics', '.', 'The', 'process', 'of', 'breaking', 'down', 'a', 'text', 'paragraph', 'into', 'smaller', 'chunks', 'such', 'as', 'words', 'or', 'sentences', 'is', 'called', 'Tokenization', '.']\n",
            "POS Tags: [('Tokenization', 'NN'), ('is', 'VBZ'), ('the', 'DT'), ('first', 'JJ'), ('step', 'NN'), ('in', 'IN'), ('text', 'JJ'), ('analytics', 'NNS'), ('.', '.'), ('The', 'DT'), ('process', 'NN'), ('of', 'IN'), ('breaking', 'VBG'), ('down', 'RP'), ('a', 'DT'), ('text', 'NN'), ('paragraph', 'NN'), ('into', 'IN'), ('smaller', 'JJR'), ('chunks', 'NNS'), ('such', 'JJ'), ('as', 'IN'), ('words', 'NNS'), ('or', 'CC'), ('sentences', 'NNS'), ('is', 'VBZ'), ('called', 'VBN'), ('Tokenization', 'NN'), ('.', '.')]\n",
            "After removing stop words: ['Tokenization', 'first', 'step', 'text', 'analytics', '.', 'process', 'breaking', 'text', 'paragraph', 'smaller', 'chunks', 'words', 'sentences', 'called', 'Tokenization', '.']\n",
            "Stemmed words: ['token', 'first', 'step', 'text', 'analyt', '.', 'process', 'break', 'text', 'paragraph', 'smaller', 'chunk', 'word', 'sentenc', 'call', 'token', '.']\n",
            "Lemmatized words: ['Tokenization', 'first', 'step', 'text', 'analytics', '.', 'process', 'breaking', 'text', 'paragraph', 'smaller', 'chunk', 'word', 'sentence', 'called', 'Tokenization', '.']\n",
            "TF-IDF Matrix:\n",
            "[[0.         0.         0.37930349 0.53309782 0.53309782 0.\n",
            "  0.37930349 0.         0.37930349]\n",
            " [0.37695709 0.37695709 0.26820807 0.         0.         0.37695709\n",
            "  0.26820807 0.37695709 0.53641614]]\n",
            "Feature names: ['fourth' 'from' 'is' 'jupiter' 'largest' 'mars' 'planet' 'sun' 'the']\n"
          ]
        }
      ]
    }
  ],
  "metadata": {
    "colab": {
      "name": "Welcome To Colab",
      "toc_visible": true,
      "provenance": []
    },
    "kernelspec": {
      "display_name": "Python 3",
      "name": "python3"
    }
  },
  "nbformat": 4,
  "nbformat_minor": 0
}