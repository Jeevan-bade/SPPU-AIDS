{
  "nbformat": 4,
  "nbformat_minor": 0,
  "metadata": {
    "colab": {
      "provenance": []
    },
    "kernelspec": {
      "name": "python3",
      "display_name": "Python 3"
    },
    "language_info": {
      "name": "python"
    }
  },
  "cells": [
    {
      "cell_type": "code",
      "source": [
        "import pandas as pd\n",
        "from sklearn.model_selection import train_test_split\n",
        "from sklearn.naive_bayes import GaussianNB\n",
        "from sklearn.metrics import confusion_matrix, accuracy_score, precision_score, recall_score\n",
        "from sklearn.preprocessing import LabelEncoder"
      ],
      "metadata": {
        "id": "I1l5_aGvEJnv"
      },
      "execution_count": 21,
      "outputs": []
    },
    {
      "cell_type": "code",
      "source": [
        "# Load the dataset\n",
        "iris_data = pd.read_csv('/content/Iris.csv')"
      ],
      "metadata": {
        "id": "k-bpn3lhERJt"
      },
      "execution_count": 22,
      "outputs": []
    },
    {
      "cell_type": "code",
      "source": [
        "# Drop the Id column as it's not needed\n",
        "iris_data = iris_data.drop('Id', axis=1)"
      ],
      "metadata": {
        "id": "2T7cOe2ZFryp"
      },
      "execution_count": 23,
      "outputs": []
    },
    {
      "cell_type": "code",
      "source": [
        "# Encode the species labels\n",
        "label_encoder = LabelEncoder()\n",
        "iris_data['Species'] = label_encoder.fit_transform(iris_data['Species'])"
      ],
      "metadata": {
        "id": "TPnMZ8WGFyHg"
      },
      "execution_count": 24,
      "outputs": []
    },
    {
      "cell_type": "code",
      "source": [
        "# Split the data into features (X) and target (y)\n",
        "X = iris_data.drop('Species', axis=1)\n",
        "y = iris_data['Species']\n",
        "\n",
        "# Split the data into training and testing sets (80% train, 20% test)\n",
        "X_train, X_test, y_train, y_test = train_test_split(X, y, test_size=0.2, random_state=42)"
      ],
      "metadata": {
        "id": "tN3MorhTF_Ki"
      },
      "execution_count": 25,
      "outputs": []
    },
    {
      "cell_type": "code",
      "source": [
        "# Initialize the Gaussian Naïve Bayes classifier\n",
        "nb_classifier = GaussianNB()\n",
        "\n",
        "# Train the classifier\n",
        "nb_classifier.fit(X_train, y_train)\n",
        "\n",
        "# Make predictions on the test set\n",
        "y_pred = nb_classifier.predict(X_test)"
      ],
      "metadata": {
        "id": "mUbuPYuWGDih"
      },
      "execution_count": 26,
      "outputs": []
    },
    {
      "cell_type": "code",
      "source": [
        "# Compute the confusion matrix\n",
        "cm = confusion_matrix(y_test, y_pred)\n",
        "print(\"Confusion Matrix:\")\n",
        "print(cm)\n",
        "\n",
        "# Calculate metrics\n",
        "accuracy = accuracy_score(y_test, y_pred)\n",
        "error_rate = 1 - accuracy\n",
        "\n",
        "# For multi-class, we need to specify average method\n",
        "precision = precision_score(y_test, y_pred, average='weighted')\n",
        "recall = recall_score(y_test, y_pred, average='weighted')"
      ],
      "metadata": {
        "colab": {
          "base_uri": "https://localhost:8080/"
        },
        "id": "3KJ_HvNEGGjn",
        "outputId": "bca58aef-76fd-4eaf-bb1f-c3696d399ee4"
      },
      "execution_count": 27,
      "outputs": [
        {
          "output_type": "stream",
          "name": "stdout",
          "text": [
            "Confusion Matrix:\n",
            "[[10  0  0]\n",
            " [ 0  9  0]\n",
            " [ 0  0 11]]\n"
          ]
        }
      ]
    },
    {
      "cell_type": "code",
      "source": [
        "print(\"\\nMetrics:\")\n",
        "print(f\"Accuracy: {accuracy:.4f}\")\n",
        "print(f\"Error Rate: {error_rate:.4f}\")\n",
        "print(f\"Precision: {precision:.4f}\")\n",
        "print(f\"Recall: {recall:.4f}\")"
      ],
      "metadata": {
        "colab": {
          "base_uri": "https://localhost:8080/"
        },
        "id": "xy2W_g8dGJHs",
        "outputId": "901f090c-302b-4cb4-da13-73bd46a7467e"
      },
      "execution_count": 28,
      "outputs": [
        {
          "output_type": "stream",
          "name": "stdout",
          "text": [
            "\n",
            "Metrics:\n",
            "Accuracy: 1.0000\n",
            "Error Rate: 0.0000\n",
            "Precision: 1.0000\n",
            "Recall: 1.0000\n"
          ]
        }
      ]
    },
    {
      "cell_type": "code",
      "source": [
        "# For binary classification metrics (if we focus on one class vs rest)\n",
        "# Let's demonstrate for class 0 (setosa)\n",
        "tn = cm[1:, 1:].sum()  # True negatives for class 0\n",
        "fp = cm[0, 1:].sum()    # False positives for class 0\n",
        "fn = cm[1:, 0].sum()    # False negatives for class 0\n",
        "tp = cm[0, 0]           # True positives for class 0\n",
        "\n",
        "print(\"\\nFor class 0 (Setosa):\")\n",
        "print(f\"True Positives (TP): {tp}\")\n",
        "print(f\"False Positives (FP): {fp}\")\n",
        "print(f\"True Negatives (TN): {tn}\")\n",
        "print(f\"False Negatives (FN): {fn}\")"
      ],
      "metadata": {
        "colab": {
          "base_uri": "https://localhost:8080/"
        },
        "id": "AClJMShrGWxp",
        "outputId": "f93cb6a3-f26d-45bd-f1c1-1afb8455524a"
      },
      "execution_count": 29,
      "outputs": [
        {
          "output_type": "stream",
          "name": "stdout",
          "text": [
            "\n",
            "For class 0 (Setosa):\n",
            "True Positives (TP): 10\n",
            "False Positives (FP): 0\n",
            "True Negatives (TN): 20\n",
            "False Negatives (FN): 0\n"
          ]
        }
      ]
    },
    {
      "cell_type": "code",
      "source": [
        "# Calculate binary metrics for class 0\n",
        "binary_accuracy = (tp + tn) / (tp + tn + fp + fn)\n",
        "binary_precision = tp / (tp + fp) if (tp + fp) != 0 else 0\n",
        "binary_recall = tp / (tp + fn) if (tp + fn) != 0 else 0\n",
        "\n",
        "print(f\"Binary Accuracy: {binary_accuracy:.4f}\")\n",
        "print(f\"Binary Precision: {binary_precision:.4f}\")\n",
        "print(f\"Binary Recall: {binary_recall:.4f}\")"
      ],
      "metadata": {
        "colab": {
          "base_uri": "https://localhost:8080/"
        },
        "id": "5ohw-0-4GdN4",
        "outputId": "6c45c65f-03fe-4122-fb91-bffd80b69de3"
      },
      "execution_count": 30,
      "outputs": [
        {
          "output_type": "stream",
          "name": "stdout",
          "text": [
            "Binary Accuracy: 1.0000\n",
            "Binary Precision: 1.0000\n",
            "Binary Recall: 1.0000\n"
          ]
        }
      ]
    }
  ]
}