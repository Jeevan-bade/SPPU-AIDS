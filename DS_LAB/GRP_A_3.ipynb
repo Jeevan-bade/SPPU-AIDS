{
  "nbformat": 4,
  "nbformat_minor": 0,
  "metadata": {
    "colab": {
      "provenance": []
    },
    "kernelspec": {
      "name": "python3",
      "display_name": "Python 3"
    },
    "language_info": {
      "name": "python"
    }
  },
  "cells": [
    {
      "cell_type": "code",
      "execution_count": 1,
      "metadata": {
        "colab": {
          "base_uri": "https://localhost:8080/"
        },
        "id": "E-tgkbaE9ydZ",
        "outputId": "40eef456-31e2-453a-8c61-241dd9bb3b75"
      },
      "outputs": [
        {
          "output_type": "stream",
          "name": "stdout",
          "text": [
            "Summary Statistics (Grouped by 'day'):\n",
            "            mean  median   min    max       std\n",
            "day                                           \n",
            "Thur  17.682742   16.20  7.51  43.11  7.886170\n",
            "Fri   17.151579   15.38  5.75  40.17  8.302660\n",
            "Sat   20.441379   18.24  3.07  50.81  9.480419\n",
            "Sun   21.410000   19.63  7.25  48.17  8.832122\n",
            "\n",
            "Numeric Values Grouped by 'day':\n",
            " [[27.2, 22.76, 17.29, 19.44, 16.66, 10.07, 32.68, 15.98, 34.83, 13.03, 18.28, 24.71, 21.16, 10.65, 12.43, 24.08, 11.69, 13.42, 14.26, 15.95, 12.48, 29.8, 8.52, 14.52, 11.38, 22.82, 19.08, 20.27, 11.17, 12.26, 18.26, 8.51, 10.33, 14.15, 16.0, 13.16, 17.47, 34.3, 41.19, 27.05, 16.43, 8.35, 18.64, 11.87, 9.78, 7.51, 19.81, 28.44, 15.48, 16.58, 7.56, 10.34, 43.11, 13.0, 13.51, 18.71, 12.74, 13.0, 16.4, 20.53, 16.47, 18.78], [28.97, 22.49, 5.75, 16.32, 22.75, 40.17, 27.28, 12.03, 21.01, 12.46, 11.35, 15.38, 12.16, 13.42, 8.58, 15.98, 13.42, 16.27, 10.09], [20.65, 17.92, 20.29, 15.77, 39.42, 19.82, 17.81, 13.37, 12.69, 21.7, 19.65, 9.55, 18.35, 15.06, 20.69, 17.78, 24.06, 16.31, 16.93, 18.69, 31.27, 16.04, 38.01, 26.41, 11.24, 48.27, 20.29, 13.81, 11.02, 18.29, 17.59, 20.08, 16.45, 3.07, 20.23, 15.01, 12.02, 17.07, 26.86, 25.28, 14.73, 10.51, 17.92, 44.3, 22.42, 20.92, 15.36, 20.49, 25.21, 18.24, 14.31, 14.0, 7.25, 10.59, 10.63, 50.81, 15.81, 26.59, 38.73, 24.27, 12.76, 30.06, 25.89, 48.33, 13.27, 28.17, 12.9, 28.15, 11.59, 7.74, 30.14, 20.45, 13.28, 22.12, 24.01, 15.69, 11.61, 10.77, 15.53, 10.07, 12.6, 32.83, 35.83, 29.03, 27.18, 22.67, 17.82], [16.99, 10.34, 21.01, 23.68, 24.59, 25.29, 8.77, 26.88, 15.04, 14.78, 10.27, 35.26, 15.42, 18.43, 14.83, 21.58, 10.33, 16.29, 16.97, 17.46, 13.94, 9.68, 30.4, 18.29, 22.23, 32.4, 28.55, 18.04, 12.54, 10.29, 34.81, 9.94, 25.56, 19.49, 38.07, 23.95, 25.71, 17.31, 29.93, 14.07, 13.13, 17.26, 24.55, 19.77, 29.85, 48.17, 25.0, 13.39, 16.49, 21.5, 12.66, 16.21, 13.81, 17.51, 24.52, 20.76, 31.71, 7.25, 31.85, 16.82, 32.9, 17.89, 14.48, 9.6, 34.63, 34.65, 23.33, 45.35, 23.17, 40.55, 20.69, 20.9, 30.46, 18.15, 23.1, 15.69]]\n"
          ]
        },
        {
          "output_type": "stream",
          "name": "stderr",
          "text": [
            "<ipython-input-1-a6f9c5cb0882>:8: FutureWarning: The default of observed=False is deprecated and will be changed to True in a future version of pandas. Pass observed=False to retain current behavior or observed=True to adopt the future default and silence this warning.\n",
            "  summary_stats = tips.groupby('day')['total_bill'].agg(\n",
            "<ipython-input-1-a6f9c5cb0882>:14: FutureWarning: The default of observed=False is deprecated and will be changed to True in a future version of pandas. Pass observed=False to retain current behavior or observed=True to adopt the future default and silence this warning.\n",
            "  numeric_values_per_day = tips.groupby('day')['total_bill'].apply(list).tolist()\n"
          ]
        }
      ],
      "source": [
        "import pandas as pd\n",
        "import seaborn as sns\n",
        "\n",
        "\n",
        "tips = sns.load_dataset('tips')\n",
        "\n",
        "# 1. Summary statistics for 'total_bill' grouped by 'day'\n",
        "summary_stats = tips.groupby('day')['total_bill'].agg(\n",
        "    ['mean', 'median', 'min', 'max', 'std']\n",
        ")\n",
        "print(\"Summary Statistics (Grouped by 'day'):\\n\", summary_stats)\n",
        "\n",
        "# 2. Create a list of numeric values for each category\n",
        "numeric_values_per_day = tips.groupby('day')['total_bill'].apply(list).tolist()\n",
        "print(\"\\nNumeric Values Grouped by 'day':\\n\", numeric_values_per_day)"
      ]
    },
    {
      "cell_type": "code",
      "source": [
        "iris = sns.load_dataset('iris')\n",
        "\n",
        "# Filter data for each species and compute statistics\n",
        "stats = iris.groupby('species').describe(percentiles=[.25, .5, .75])\n",
        "\n",
        "print(\"\\nStatistical Details for Iris Species:\\n\")\n",
        "print(stats)"
      ],
      "metadata": {
        "colab": {
          "base_uri": "https://localhost:8080/"
        },
        "id": "rSJmlVuw__-a",
        "outputId": "28724ab3-200a-4e27-ff90-10cc9fc7d2ec"
      },
      "execution_count": 2,
      "outputs": [
        {
          "output_type": "stream",
          "name": "stdout",
          "text": [
            "\n",
            "Statistical Details for Iris Species:\n",
            "\n",
            "           sepal_length                                              \\\n",
            "                  count   mean       std  min    25%  50%  75%  max   \n",
            "species                                                               \n",
            "setosa             50.0  5.006  0.352490  4.3  4.800  5.0  5.2  5.8   \n",
            "versicolor         50.0  5.936  0.516171  4.9  5.600  5.9  6.3  7.0   \n",
            "virginica          50.0  6.588  0.635880  4.9  6.225  6.5  6.9  7.9   \n",
            "\n",
            "           sepal_width         ... petal_length      petal_width         \\\n",
            "                 count   mean  ...          75%  max       count   mean   \n",
            "species                        ...                                        \n",
            "setosa            50.0  3.428  ...        1.575  1.9        50.0  0.246   \n",
            "versicolor        50.0  2.770  ...        4.600  5.1        50.0  1.326   \n",
            "virginica         50.0  2.974  ...        5.875  6.9        50.0  2.026   \n",
            "\n",
            "                                               \n",
            "                 std  min  25%  50%  75%  max  \n",
            "species                                        \n",
            "setosa      0.105386  0.1  0.2  0.2  0.3  0.6  \n",
            "versicolor  0.197753  1.0  1.2  1.3  1.5  1.8  \n",
            "virginica   0.274650  1.4  1.8  2.0  2.3  2.5  \n",
            "\n",
            "[3 rows x 32 columns]\n"
          ]
        }
      ]
    }
  ]
}